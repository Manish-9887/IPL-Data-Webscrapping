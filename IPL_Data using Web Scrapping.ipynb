{
 "cells": [
  {
   "cell_type": "markdown",
   "metadata": {},
   "source": [
    "###  1.  We will be scrapping data from website such that  from \"https://www.iplt20.com/points-table/men/2022\" and scrap point table from it."
   ]
  },
  {
   "cell_type": "code",
   "execution_count": 1,
   "metadata": {},
   "outputs": [],
   "source": [
    "# we will be using selenium for web scrapping as we are going to scrap dynamic webpages.\n",
    "#we cannot scrap dynamic wepages or pages with javascript enble by request and BeautifulSoup\n",
    "# these two(request and BeautifulSoup) librararies are used for static webpage scrapping\n",
    "\n",
    "\n",
    "# we will be using selenium and BeautifulSoup to extract data from IPL page.\n",
    "from selenium import webdriver\n",
    "from time import sleep\n",
    "from bs4 import BeautifulSoup\n"
   ]
  },
  {
   "cell_type": "code",
   "execution_count": 2,
   "metadata": {},
   "outputs": [
    {
     "name": "stderr",
     "output_type": "stream",
     "text": [
      "<ipython-input-2-d265734223a3>:1: DeprecationWarning: executable_path has been deprecated, please pass in a Service object\n",
      "  driver = webdriver.Firefox(executable_path= r\"C:\\Users\\manis\\Downloads\\geckodriver-v0.32.2-win64\\geckodriver.exe\")\n"
     ]
    }
   ],
   "source": [
    "# here we are installing web driver for firefox to use web driver to extract data from website\n",
    "\n",
    "driver = webdriver.Firefox(executable_path= r\"C:\\Users\\manis\\Downloads\\geckodriver-v0.32.2-win64\\geckodriver.exe\")\n"
   ]
  },
  {
   "cell_type": "code",
   "execution_count": 3,
   "metadata": {},
   "outputs": [],
   "source": [
    "# here we have getting url and page source\n",
    "\n",
    "url = \"https://www.iplt20.com/points-table/men/2022\"\n",
    "driver.get(url)\n",
    "html_text= driver.page_source"
   ]
  },
  {
   "cell_type": "code",
   "execution_count": 9,
   "metadata": {},
   "outputs": [],
   "source": [
    "# parsing to lxml format to extract data from it.\n",
    "\n",
    "soup = BeautifulSoup(html_text, 'lxml')\n",
    "league_table = soup.find('table', class_='ih-td-tab table table-striped')"
   ]
  },
  {
   "cell_type": "code",
   "execution_count": 10,
   "metadata": {},
   "outputs": [
    {
     "name": "stdout",
     "output_type": "stream",
     "text": [
      "  Team Pld Won Lost Tied N/R Net RR For Against Pts Form \n",
      "  Q        GT   14 10 4 0 0 0.316 2339/278.1 2216/273.5 20  LWWLL  \n",
      "  Q        RR   14 9 5 0 0 0.298 2464/279.2 2351/275.5 18  WWLWL  \n",
      "  Q        LSG   14 9 5 0 0 0.251 2355/279.1 2289/279.4 18  WLLWW  \n",
      "  Q        RCB   14 8 6 0 0 -0.253 2268/275.4 2260/266.3 16  WLWWL  \n",
      "   5       DC   14 7 7 0 0 0.204 2341/266.0 2397/278.5 14  LWWLW  \n",
      "   6       PBKS   14 7 7 0 0 0.126 2343/270.1 2252/263.3 14  WLWLW  \n",
      "   7       KKR   14 6 8 0 0 0.146 2223/268.1 2249/276.1 12  LWWLW  \n",
      "   8       SRH   14 6 8 0 0 -0.379 2197/261.3 2416/275.1 12  LWLLL  \n",
      "   9       CSK   14 4 10 0 0 -0.203 2288/280.0 2254/269.1 8  LLLWL  \n",
      "   10       MI   14 4 10 0 0 -0.506 2217/273.2 2351/272.5 8  WLWLW  \n"
     ]
    }
   ],
   "source": [
    "# we find all the row present in table and convert it to text from lxml\n",
    "\n",
    "for team in league_table.find_all('tr'):\n",
    "    print(team.text)"
   ]
  },
  {
   "cell_type": "code",
   "execution_count": 11,
   "metadata": {},
   "outputs": [],
   "source": [
    "driver.close()"
   ]
  },
  {
   "cell_type": "code",
   "execution_count": null,
   "metadata": {},
   "outputs": [],
   "source": []
  }
 ],
 "metadata": {
  "kernelspec": {
   "display_name": "Python 3",
   "language": "python",
   "name": "python3"
  },
  "language_info": {
   "codemirror_mode": {
    "name": "ipython",
    "version": 3
   },
   "file_extension": ".py",
   "mimetype": "text/x-python",
   "name": "python",
   "nbconvert_exporter": "python",
   "pygments_lexer": "ipython3",
   "version": "3.8.8"
  }
 },
 "nbformat": 4,
 "nbformat_minor": 2
}
